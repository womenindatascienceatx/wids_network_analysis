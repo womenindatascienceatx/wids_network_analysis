{
  "worksheets": [
    {
      "cells": [
        {
          "cell_type": "markdown",
          "source": "#networkx\n###networkx is the library used for Network analysis in python \n\n\n\n\n\n"
        },
        {
          "cell_type": "code",
          "input": "import networkx as nx\nimport pandas as pd \n",
          "outputs": [],
          "language": "python",
          "metadata": {
            "cellView": null,
            "executionInfo": null
          }
        },
        {
          "cell_type": "markdown",
          "source": "###Reading edge list and nodes data \nThis data set is directed network of 29 seventh grade students. A node represents a student and contains the information of their gender. An edge between two nodes shows that the left student picked the right student as a friend with weights between 1 and 3.The edge weights are between 1 and 3 and show how often the left student chose the right student as his favourite  \n"
        },
        {
          "cell_type": "code",
          "input": "# Read the edge list \ndf = pd.read_csv('out.moreno_seventh_seventh',skiprows=2, header=None, sep=' ')\ndf.columns = ['student1', 'student2', 'count']\n\n# Read the node metadata \nmeta = pd.read_csv('ent.moreno_seventh_seventh.student.gender',header=None)\nmeta.index += 1\nmeta.columns = ['gender']",
          "outputs": [],
          "language": "python",
          "metadata": {
            "cellView": null,
            "executionInfo": null
          }
        },
        {
          "level": 3,
          "cell_type": "heading",
          "source": "nx.DiGraph() for creating directed graph and nx.Graph() for crating undirected graph "
        },
        {
          "cell_type": "code",
          "input": "# create an empty directed graoh \nG = nx.DiGraph()\nnx.draw(G)\n",
          "outputs": [],
          "language": "python",
          "metadata": {
            "cellView": null,
            "executionInfo": null
          }
        },
        {
          "cell_type": "markdown",
          "source": "###Add Edges and nodes to the empty graph ( G.add_node() , G.add_edge() )\n\n### Drawing Graphs draw() is used "
        },
        {
          "cell_type": "code",
          "input": "for row in df.iterrows():\n  G.add_edge(row[1]['student1'], row[1]['student2'],count=row[1]['count'])\n \n# Add node metadata\nfor n in G.nodes():\n  G.node[n]['gender'] = meta.ix[n]['gender']\n\nnx.draw(G)\n\nnx.draw(G, with_labels=True)\n\nmatrix = nx.to_numpy_matrix(G)\n\nplt.pcolor(np.array(matrix))\nplt.axes().set_aspect('equal') # set aspect ratio equal to get a square visualization\nplt.xlim(min(G.nodes()), max(G.nodes())) # set x and y limits to the number of nodes present.\nplt.ylim(min(G.nodes()), max(G.nodes()))\nplt.title('Adjacency Matrix')\nplt.show()\n\n",
          "outputs": [],
          "language": "python",
          "metadata": {
            "cellView": null,
            "executionInfo": null
          }
        },
        {
          "cell_type": "markdown",
          "source": "##Data Representation\n\nIn the networkx implementation, graph objects store their data in dictionaries.\n\nNodes are part of the attribute Graph.node, which is a dictionary where the key is the node ID and the values are a dictionary of attributes.\n\n"
        },
        {
          "cell_type": "code",
          "input": "# G.nodes()\nlen(G.nodes()) \n#G.edges() \nlen(G.edges())",
          "outputs": [],
          "language": "python",
          "metadata": {
            "cellView": null,
            "executionInfo": null
          }
        },
        {
          "cell_type": "markdown",
          "source": "###Both nodes and edges can have attributes : \nLet's get a list of nodes and edges with their attributes.\n"
        },
        {
          "cell_type": "code",
          "input": "G.nodes(data=True)\nG.edges(data=True)",
          "outputs": [],
          "language": "python",
          "metadata": {
            "cellView": null,
            "executionInfo": null
          }
        },
        {
          "cell_type": "markdown",
          "source": "# Centrality \n###Centrality measures address the question:\n##\"Who is the most important or central person in this network?\"\nThere are many answers to this question, depending on what we mean by importance.\n\nThere are different centrality measures that have been proposed over the years.\n\n###1) Degree Centrality \n\n###Degree : The degree of a node of a graph is the number of edges incident to the node.( Number of neighbors of a node ) \n\n\n\n"
        },
        {
          "cell_type": "code",
          "input": "# Let's find out the number of neighbors that individual #7 has.\nlen(G.neighbors(7))",
          "outputs": [],
          "language": "python",
          "metadata": {
            "cellView": null,
            "executionInfo": null
          }
        },
        {
          "cell_type": "markdown",
          "source": "###The nodes with higher degree is more central.\n\nNetworkX implements a degree centrality, which is defined as the number of neighbors that a node has normalized to the number of individuals it could be connected to in the entire graph. "
        },
        {
          "cell_type": "code",
          "input": "nx.degree_centrality(G)\n\n# Histogram of degree_centralities \nfig = plt.figure(0)\n# Get a list of degree centrality scores for all of the nodes.\ndegree_centralities = list(nx.degree_centrality(G).values())\n# Plot the histogram of degree centralities.\nplt.hist(degree_centralities)\n# Set the plot title. \nplt.title('Degree Centralities')\n",
          "outputs": [],
          "language": "python",
          "metadata": {
            "cellView": null,
            "executionInfo": null
          }
        },
        {
          "cell_type": "markdown",
          "source": "\n###2) Closeness Centrality \n\nFarness : The farness/peripherality of a node v is defined as the sum of its distances to all other nodes. The closeness is defined as the inverse of the farness.\n\nThe more central a node is, the lower its total distance to all other nodes.\n\n\n\n\n"
        },
        {
          "cell_type": "code",
          "input": "# Histogram of degree_centralities \nfig = plt.figure(1)\n# Get a list of degree centrality scores for all of the nodes.\ncloseness_centralities = list(nx.closeness_centrality(G).values())\n# Plot the histogram of degree centralities.\nplt.hist(closeness_centralities)\n# Set the plot title. \nplt.title('Closeness Centralities')\n",
          "outputs": [],
          "language": "python",
          "metadata": {
            "cellView": null,
            "executionInfo": null
          }
        },
        {
          "level": 3,
          "cell_type": "heading",
          "source": "3) Betweenness Centrality \n"
        },
        {
          "cell_type": "code",
          "input": "# Histogram of degree_centralities \nfig = plt.figure(2)\n# Get a list of degree centrality scores for all of the nodes.\nbetweenness_centralities = list(nx.betweenness_centrality(G).values())\n# Plot the histogram of degree centralities.\nplt.hist(betweenness_centralities)\n# Set the plot title. \nplt.title('Betweenness Centralities')",
          "outputs": [],
          "language": "python",
          "metadata": {
            "cellView": null,
            "executionInfo": null
          }
        },
        {
          "cell_type": "markdown",
          "source": "#Paths in a Network\nGraph traversal is akin to walking along the graph, node by node, restricted by the edges that connect the nodes. Graph traversal is particularly useful for understanding the local structure (e.g. connectivity, retrieving the exact relationships) of certain portions of the graph and for finding paths that connect two nodes in the network.\nUsing the synthetic social network, we will figure out how to answer the following questions:\n\n1)How long will it take for a message to spread through this group of friends? (making some assumptions, of course)\n\n2)How do we find the shortest path to get from individual A to individual B?\n\n###Networkx has a function has_path to see if there is a path between two nodes "
        },
        {
          "cell_type": "code",
          "input": "nx.has_path(G, 400, 1)",
          "outputs": [],
          "language": "python",
          "metadata": {
            "cellView": null,
            "executionInfo": null
          }
        },
        {
          "level": 3,
          "cell_type": "heading",
          "source": "NetworkX also has other shortest path algorithms implemented."
        },
        {
          "cell_type": "code",
          "input": "nx.shortest_path(G, 4, 400)\n\n# function to extract shortest path from a network \n\n\ndef extract_path_edges(G, source, target):\n    # Check to make sure that a path does exists between source and target.\n    if nx.has_path(G, source, target):\n        nodes = nx.shortest_path(G, source, target)\n        newG = G.subgraph(nodes)\n        return newG\n\n    else:\n        raise Exception('Path does not exist between nodes {0} and {1}.'.format(source, target))\n        \nnewG = extract_path_edges(G, 4, 400)\nnx.draw(newG, with_labels=True)\n\n",
          "outputs": [],
          "language": "python",
          "metadata": {
            "cellView": null,
            "executionInfo": null
          }
        },
        {
          "cell_type": "markdown",
          "source": ""
        }
      ]
    }
  ],
  "metadata": {
    "name": "network_analysis.ipynb ",
    "colabVersion": "0.1"
  },
  "nbformat": 3,
  "nbformat_minor": 0
}